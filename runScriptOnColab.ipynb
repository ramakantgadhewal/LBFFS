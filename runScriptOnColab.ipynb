{
  "nbformat": 4,
  "nbformat_minor": 0,
  "metadata": {
    "colab": {
      "name": "runScriptOnColab.ipynb",
      "provenance": [],
      "collapsed_sections": []
    },
    "kernelspec": {
      "name": "python3",
      "display_name": "Python 3"
    },
    "language_info": {
      "name": "python"
    },
    "accelerator": "GPU",
    "gpuClass": "standard"
  },
  "cells": [
    {
      "cell_type": "code",
      "source": [
        "!apt install libomp-dev\n",
        "!apt install opencl-headers"
      ],
      "metadata": {
        "id": "F9unarTHZXcL"
      },
      "execution_count": null,
      "outputs": []
    },
    {
      "cell_type": "code",
      "source": [
        "import os\n",
        "from os.path import exists\n",
        "\n",
        "path = '/content'\n",
        "os.chdir(path)\n",
        "\n",
        "git_repo_url = 'https://github.com/spica85/LBFFS.git'\n",
        "project_name = 'LBFFS'\n",
        "\n",
        "if not exists(project_name):\n",
        "  !git clone $git_repo_url\n",
        "\n",
        "os.chdir('LBFFS/D3Q19_opencl')\n",
        "\n",
        "if not exists('build'):\n",
        "  !mkdir build\n",
        "os.chdir('build')\n",
        "\n",
        "!cmake ..\n",
        "!make"
      ],
      "metadata": {
        "id": "7Gp2MuuWOGAU"
      },
      "execution_count": null,
      "outputs": []
    },
    {
      "cell_type": "code",
      "source": [
        "!cp ../testCases/cavityFlow/inputCavityFlow.txt input.txt\n",
        "!cp ../testCases/cavityFlow/boundaryConditionsCavityFlow.txt boundaryConditions.txt\n",
        "\n",
        "if not exists('out'):\n",
        "  !mkdir out"
      ],
      "metadata": {
        "id": "gX9grnKmUzXA"
      },
      "execution_count": null,
      "outputs": []
    },
    {
      "cell_type": "code",
      "source": [
        "!./ns.opencl | tee log"
      ],
      "metadata": {
        "id": "jMGmrhclVJ-u"
      },
      "execution_count": null,
      "outputs": []
    }
  ]
}